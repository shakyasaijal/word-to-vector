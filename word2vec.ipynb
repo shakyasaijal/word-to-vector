{
 "cells": [
  {
   "cell_type": "code",
   "execution_count": 4,
   "metadata": {
    "collapsed": false
   },
   "outputs": [
    {
     "name": "stderr",
     "output_type": "stream",
     "text": [
      "2016-12-02 12:09:15,800 : INFO : collecting all words and their counts\n",
      "2016-12-02 12:09:15,859 : INFO : PROGRESS: at sentence #0, processed 0 words, keeping 0 word types\n",
      "2016-12-02 12:09:20,668 : INFO : collected 508385 word types from a corpus of 11771739 raw words and 1178 sentences\n",
      "2016-12-02 12:09:21,269 : INFO : min_count=5 retains 78881 unique words (drops 429504)\n",
      "2016-12-02 12:09:21,270 : INFO : min_count leaves 11190411 word corpus (95% of original 11771739)\n",
      "2016-12-02 12:09:21,464 : INFO : deleting the raw counts dictionary of 508385 items\n",
      "2016-12-02 12:09:21,503 : INFO : sample=0.001 downsamples 43 most-common words\n",
      "2016-12-02 12:09:21,504 : INFO : downsampling leaves estimated 8708606 word corpus (77.8% of prior 11190411)\n",
      "2016-12-02 12:09:21,505 : INFO : estimated required memory for 78881 words and 200 dimensions: 165650100 bytes\n",
      "2016-12-02 12:09:21,789 : INFO : resetting layer weights\n",
      "2016-12-02 12:09:22,846 : INFO : training model with 3 workers on 78881 vocabulary and 200 features, using sg=0 hs=0 sample=0.001 negative=5\n",
      "2016-12-02 12:09:22,846 : INFO : expecting 1178 sentences, matching count from corpus used for vocabulary survey\n",
      "2016-12-02 12:09:23,880 : INFO : PROGRESS: at 0.48% examples, 205864 words/s, in_qsize 6, out_qsize 0\n",
      "2016-12-02 12:09:24,890 : INFO : PROGRESS: at 0.93% examples, 201710 words/s, in_qsize 5, out_qsize 0\n",
      "2016-12-02 12:09:25,900 : INFO : PROGRESS: at 1.41% examples, 202808 words/s, in_qsize 5, out_qsize 0\n",
      "2016-12-02 12:09:26,902 : INFO : PROGRESS: at 1.90% examples, 205779 words/s, in_qsize 5, out_qsize 0\n",
      "2016-12-02 12:09:27,920 : INFO : PROGRESS: at 2.39% examples, 206761 words/s, in_qsize 5, out_qsize 0\n",
      "2016-12-02 12:09:28,926 : INFO : PROGRESS: at 2.89% examples, 207825 words/s, in_qsize 5, out_qsize 0\n",
      "2016-12-02 12:09:29,998 : INFO : PROGRESS: at 3.38% examples, 206712 words/s, in_qsize 5, out_qsize 0\n",
      "2016-12-02 12:09:31,031 : INFO : PROGRESS: at 3.89% examples, 207688 words/s, in_qsize 5, out_qsize 0\n",
      "2016-12-02 12:09:32,083 : INFO : PROGRESS: at 4.41% examples, 208858 words/s, in_qsize 5, out_qsize 0\n",
      "2016-12-02 12:09:33,088 : INFO : PROGRESS: at 4.92% examples, 210070 words/s, in_qsize 5, out_qsize 0\n",
      "2016-12-02 12:09:34,145 : INFO : PROGRESS: at 5.43% examples, 210077 words/s, in_qsize 5, out_qsize 0\n",
      "2016-12-02 12:09:35,191 : INFO : PROGRESS: at 5.93% examples, 209647 words/s, in_qsize 4, out_qsize 1\n",
      "2016-12-02 12:09:36,216 : INFO : PROGRESS: at 6.40% examples, 209077 words/s, in_qsize 5, out_qsize 0\n",
      "2016-12-02 12:09:37,219 : INFO : PROGRESS: at 6.91% examples, 209904 words/s, in_qsize 5, out_qsize 0\n",
      "2016-12-02 12:09:38,277 : INFO : PROGRESS: at 7.40% examples, 209396 words/s, in_qsize 5, out_qsize 0\n",
      "2016-12-02 12:09:39,279 : INFO : PROGRESS: at 7.88% examples, 209251 words/s, in_qsize 5, out_qsize 0\n",
      "2016-12-02 12:09:40,312 : INFO : PROGRESS: at 8.39% examples, 209569 words/s, in_qsize 5, out_qsize 0\n",
      "2016-12-02 12:09:41,327 : INFO : PROGRESS: at 8.91% examples, 210462 words/s, in_qsize 5, out_qsize 0\n",
      "2016-12-02 12:09:42,331 : INFO : PROGRESS: at 9.42% examples, 210998 words/s, in_qsize 5, out_qsize 0\n",
      "2016-12-02 12:09:43,366 : INFO : PROGRESS: at 9.95% examples, 211523 words/s, in_qsize 5, out_qsize 0\n",
      "2016-12-02 12:09:44,372 : INFO : PROGRESS: at 10.44% examples, 211580 words/s, in_qsize 6, out_qsize 0\n",
      "2016-12-02 12:09:45,382 : INFO : PROGRESS: at 10.90% examples, 210955 words/s, in_qsize 6, out_qsize 0\n",
      "2016-12-02 12:09:46,408 : INFO : PROGRESS: at 11.43% examples, 211499 words/s, in_qsize 5, out_qsize 0\n",
      "2016-12-02 12:09:47,446 : INFO : PROGRESS: at 11.94% examples, 211601 words/s, in_qsize 4, out_qsize 1\n",
      "2016-12-02 12:09:48,492 : INFO : PROGRESS: at 12.46% examples, 211915 words/s, in_qsize 4, out_qsize 1\n",
      "2016-12-02 12:09:49,518 : INFO : PROGRESS: at 12.97% examples, 212085 words/s, in_qsize 5, out_qsize 0\n",
      "2016-12-02 12:09:50,539 : INFO : PROGRESS: at 13.46% examples, 212027 words/s, in_qsize 5, out_qsize 0\n",
      "2016-12-02 12:09:51,544 : INFO : PROGRESS: at 13.94% examples, 211820 words/s, in_qsize 6, out_qsize 0\n",
      "2016-12-02 12:09:52,581 : INFO : PROGRESS: at 14.45% examples, 211894 words/s, in_qsize 6, out_qsize 0\n",
      "2016-12-02 12:09:53,590 : INFO : PROGRESS: at 14.94% examples, 211907 words/s, in_qsize 5, out_qsize 0\n",
      "2016-12-02 12:09:54,609 : INFO : PROGRESS: at 15.43% examples, 211876 words/s, in_qsize 5, out_qsize 0\n",
      "2016-12-02 12:09:55,619 : INFO : PROGRESS: at 15.89% examples, 211445 words/s, in_qsize 5, out_qsize 0\n",
      "2016-12-02 12:09:56,658 : INFO : PROGRESS: at 16.42% examples, 211728 words/s, in_qsize 5, out_qsize 0\n",
      "2016-12-02 12:09:57,678 : INFO : PROGRESS: at 16.93% examples, 211902 words/s, in_qsize 5, out_qsize 0\n",
      "2016-12-02 12:09:58,704 : INFO : PROGRESS: at 17.40% examples, 211622 words/s, in_qsize 5, out_qsize 0\n",
      "2016-12-02 12:09:59,706 : INFO : PROGRESS: at 17.89% examples, 211698 words/s, in_qsize 5, out_qsize 0\n",
      "2016-12-02 12:10:00,717 : INFO : PROGRESS: at 18.35% examples, 211323 words/s, in_qsize 5, out_qsize 0\n",
      "2016-12-02 12:10:01,723 : INFO : PROGRESS: at 18.86% examples, 211566 words/s, in_qsize 5, out_qsize 0\n",
      "2016-12-02 12:10:02,749 : INFO : PROGRESS: at 19.34% examples, 211314 words/s, in_qsize 5, out_qsize 0\n",
      "2016-12-02 12:10:03,767 : INFO : PROGRESS: at 19.86% examples, 211649 words/s, in_qsize 6, out_qsize 0\n",
      "2016-12-02 12:10:04,818 : INFO : PROGRESS: at 20.41% examples, 211840 words/s, in_qsize 6, out_qsize 0\n",
      "2016-12-02 12:10:05,820 : INFO : PROGRESS: at 20.90% examples, 211894 words/s, in_qsize 5, out_qsize 0\n",
      "2016-12-02 12:10:06,846 : INFO : PROGRESS: at 21.43% examples, 212165 words/s, in_qsize 5, out_qsize 0\n",
      "2016-12-02 12:10:07,916 : INFO : PROGRESS: at 21.94% examples, 212070 words/s, in_qsize 6, out_qsize 0\n",
      "2016-12-02 12:10:08,946 : INFO : PROGRESS: at 22.43% examples, 211987 words/s, in_qsize 5, out_qsize 0\n",
      "2016-12-02 12:10:10,013 : INFO : PROGRESS: at 22.97% examples, 212204 words/s, in_qsize 5, out_qsize 0\n",
      "2016-12-02 12:10:11,032 : INFO : PROGRESS: at 23.50% examples, 212478 words/s, in_qsize 6, out_qsize 0\n",
      "2016-12-02 12:10:12,037 : INFO : PROGRESS: at 24.01% examples, 212641 words/s, in_qsize 5, out_qsize 0\n",
      "2016-12-02 12:10:13,046 : INFO : PROGRESS: at 24.53% examples, 212932 words/s, in_qsize 5, out_qsize 0\n",
      "2016-12-02 12:10:14,067 : INFO : PROGRESS: at 25.04% examples, 213032 words/s, in_qsize 5, out_qsize 0\n",
      "2016-12-02 12:10:15,073 : INFO : PROGRESS: at 25.55% examples, 213179 words/s, in_qsize 5, out_qsize 0\n",
      "2016-12-02 12:10:16,081 : INFO : PROGRESS: at 26.04% examples, 213173 words/s, in_qsize 5, out_qsize 0\n",
      "2016-12-02 12:10:17,130 : INFO : PROGRESS: at 26.52% examples, 212866 words/s, in_qsize 5, out_qsize 0\n",
      "2016-12-02 12:10:18,132 : INFO : PROGRESS: at 27.03% examples, 213022 words/s, in_qsize 5, out_qsize 0\n",
      "2016-12-02 12:10:19,143 : INFO : PROGRESS: at 27.54% examples, 213132 words/s, in_qsize 5, out_qsize 0\n",
      "2016-12-02 12:10:20,166 : INFO : PROGRESS: at 28.06% examples, 213339 words/s, in_qsize 5, out_qsize 0\n",
      "2016-12-02 12:10:21,180 : INFO : PROGRESS: at 28.57% examples, 213431 words/s, in_qsize 4, out_qsize 1\n",
      "2016-12-02 12:10:22,207 : INFO : PROGRESS: at 29.10% examples, 213597 words/s, in_qsize 6, out_qsize 0\n",
      "2016-12-02 12:10:23,229 : INFO : PROGRESS: at 29.64% examples, 213903 words/s, in_qsize 5, out_qsize 0\n",
      "2016-12-02 12:10:24,232 : INFO : PROGRESS: at 30.15% examples, 214017 words/s, in_qsize 5, out_qsize 0\n",
      "2016-12-02 12:10:25,232 : INFO : PROGRESS: at 30.65% examples, 214029 words/s, in_qsize 3, out_qsize 2\n",
      "2016-12-02 12:10:26,233 : INFO : PROGRESS: at 31.17% examples, 214272 words/s, in_qsize 6, out_qsize 0\n",
      "2016-12-02 12:10:27,243 : INFO : PROGRESS: at 31.70% examples, 214467 words/s, in_qsize 5, out_qsize 0\n",
      "2016-12-02 12:10:28,258 : INFO : PROGRESS: at 32.21% examples, 214537 words/s, in_qsize 5, out_qsize 0\n",
      "2016-12-02 12:10:29,303 : INFO : PROGRESS: at 32.73% examples, 214622 words/s, in_qsize 6, out_qsize 1\n",
      "2016-12-02 12:10:30,311 : INFO : PROGRESS: at 33.26% examples, 214811 words/s, in_qsize 5, out_qsize 0\n",
      "2016-12-02 12:10:31,325 : INFO : PROGRESS: at 33.79% examples, 214981 words/s, in_qsize 5, out_qsize 0\n",
      "2016-12-02 12:10:32,371 : INFO : PROGRESS: at 34.30% examples, 214937 words/s, in_qsize 6, out_qsize 0\n",
      "2016-12-02 12:10:33,383 : INFO : PROGRESS: at 34.82% examples, 215101 words/s, in_qsize 6, out_qsize 0\n",
      "2016-12-02 12:10:34,455 : INFO : PROGRESS: at 35.37% examples, 215186 words/s, in_qsize 5, out_qsize 0\n",
      "2016-12-02 12:10:35,473 : INFO : PROGRESS: at 35.89% examples, 215330 words/s, in_qsize 5, out_qsize 0\n",
      "2016-12-02 12:10:36,483 : INFO : PROGRESS: at 36.42% examples, 215493 words/s, in_qsize 5, out_qsize 0\n",
      "2016-12-02 12:10:37,496 : INFO : PROGRESS: at 36.93% examples, 215543 words/s, in_qsize 5, out_qsize 0\n",
      "2016-12-02 12:10:38,528 : INFO : PROGRESS: at 37.45% examples, 215639 words/s, in_qsize 5, out_qsize 0\n",
      "2016-12-02 12:10:39,560 : INFO : PROGRESS: at 37.98% examples, 215728 words/s, in_qsize 6, out_qsize 0\n",
      "2016-12-02 12:10:40,577 : INFO : PROGRESS: at 38.51% examples, 215858 words/s, in_qsize 5, out_qsize 0\n",
      "2016-12-02 12:10:41,578 : INFO : PROGRESS: at 39.02% examples, 215932 words/s, in_qsize 5, out_qsize 0\n",
      "2016-12-02 12:10:42,584 : INFO : PROGRESS: at 39.52% examples, 215995 words/s, in_qsize 6, out_qsize 0\n",
      "2016-12-02 12:10:43,590 : INFO : PROGRESS: at 40.05% examples, 216063 words/s, in_qsize 5, out_qsize 0\n",
      "2016-12-02 12:10:44,605 : INFO : PROGRESS: at 40.56% examples, 216098 words/s, in_qsize 5, out_qsize 0\n",
      "2016-12-02 12:10:45,621 : INFO : PROGRESS: at 41.09% examples, 216219 words/s, in_qsize 5, out_qsize 0\n",
      "2016-12-02 12:10:46,685 : INFO : PROGRESS: at 41.61% examples, 216209 words/s, in_qsize 5, out_qsize 0\n",
      "2016-12-02 12:10:47,711 : INFO : PROGRESS: at 42.14% examples, 216300 words/s, in_qsize 5, out_qsize 0\n",
      "2016-12-02 12:10:48,754 : INFO : PROGRESS: at 42.65% examples, 216256 words/s, in_qsize 6, out_qsize 0\n",
      "2016-12-02 12:10:49,757 : INFO : PROGRESS: at 43.16% examples, 216321 words/s, in_qsize 6, out_qsize 0\n",
      "2016-12-02 12:10:50,784 : INFO : PROGRESS: at 43.65% examples, 216235 words/s, in_qsize 6, out_qsize 0\n",
      "2016-12-02 12:10:51,791 : INFO : PROGRESS: at 44.16% examples, 216275 words/s, in_qsize 5, out_qsize 0\n",
      "2016-12-02 12:10:52,819 : INFO : PROGRESS: at 44.65% examples, 216187 words/s, in_qsize 5, out_qsize 0\n",
      "2016-12-02 12:10:53,825 : INFO : PROGRESS: at 45.14% examples, 216157 words/s, in_qsize 5, out_qsize 0\n",
      "2016-12-02 12:10:54,889 : INFO : PROGRESS: at 45.62% examples, 215912 words/s, in_qsize 5, out_qsize 0\n",
      "2016-12-02 12:10:55,935 : INFO : PROGRESS: at 46.13% examples, 215871 words/s, in_qsize 5, out_qsize 0\n",
      "2016-12-02 12:10:56,955 : INFO : PROGRESS: at 46.62% examples, 215813 words/s, in_qsize 5, out_qsize 0\n",
      "2016-12-02 12:10:58,005 : INFO : PROGRESS: at 47.15% examples, 215840 words/s, in_qsize 5, out_qsize 0\n",
      "2016-12-02 12:10:59,019 : INFO : PROGRESS: at 47.66% examples, 215869 words/s, in_qsize 5, out_qsize 0\n",
      "2016-12-02 12:11:00,026 : INFO : PROGRESS: at 48.13% examples, 215765 words/s, in_qsize 5, out_qsize 0\n",
      "2016-12-02 12:11:01,069 : INFO : PROGRESS: at 48.62% examples, 215658 words/s, in_qsize 6, out_qsize 0\n",
      "2016-12-02 12:11:02,069 : INFO : PROGRESS: at 49.10% examples, 215569 words/s, in_qsize 5, out_qsize 0\n",
      "2016-12-02 12:11:03,078 : INFO : PROGRESS: at 49.52% examples, 215241 words/s, in_qsize 5, out_qsize 0\n",
      "2016-12-02 12:11:04,116 : INFO : PROGRESS: at 50.00% examples, 215079 words/s, in_qsize 5, out_qsize 0\n",
      "2016-12-02 12:11:05,145 : INFO : PROGRESS: at 50.46% examples, 214867 words/s, in_qsize 5, out_qsize 0\n",
      "2016-12-02 12:11:06,151 : INFO : PROGRESS: at 50.95% examples, 214850 words/s, in_qsize 5, out_qsize 0\n",
      "2016-12-02 12:11:07,160 : INFO : PROGRESS: at 51.46% examples, 214902 words/s, in_qsize 5, out_qsize 0\n",
      "2016-12-02 12:11:08,187 : INFO : PROGRESS: at 51.97% examples, 214916 words/s, in_qsize 5, out_qsize 0\n",
      "2016-12-02 12:11:09,206 : INFO : PROGRESS: at 52.46% examples, 214879 words/s, in_qsize 5, out_qsize 0\n",
      "2016-12-02 12:11:10,250 : INFO : PROGRESS: at 52.95% examples, 214785 words/s, in_qsize 5, out_qsize 0\n",
      "2016-12-02 12:11:11,252 : INFO : PROGRESS: at 53.48% examples, 214920 words/s, in_qsize 5, out_qsize 0\n",
      "2016-12-02 12:11:12,282 : INFO : PROGRESS: at 54.01% examples, 214996 words/s, in_qsize 5, out_qsize 0\n",
      "2016-12-02 12:11:13,284 : INFO : PROGRESS: at 54.53% examples, 215121 words/s, in_qsize 5, out_qsize 0\n",
      "2016-12-02 12:11:14,309 : INFO : PROGRESS: at 55.04% examples, 215135 words/s, in_qsize 5, out_qsize 0\n",
      "2016-12-02 12:11:15,339 : INFO : PROGRESS: at 55.57% examples, 215206 words/s, in_qsize 6, out_qsize 0\n",
      "2016-12-02 12:11:16,347 : INFO : PROGRESS: at 56.08% examples, 215249 words/s, in_qsize 4, out_qsize 1\n",
      "2016-12-02 12:11:17,399 : INFO : PROGRESS: at 56.60% examples, 215278 words/s, in_qsize 4, out_qsize 1\n",
      "2016-12-02 12:11:18,403 : INFO : PROGRESS: at 57.13% examples, 215391 words/s, in_qsize 5, out_qsize 0\n",
      "2016-12-02 12:11:19,405 : INFO : PROGRESS: at 57.64% examples, 215444 words/s, in_qsize 5, out_qsize 0\n",
      "2016-12-02 12:11:20,451 : INFO : PROGRESS: at 58.17% examples, 215476 words/s, in_qsize 5, out_qsize 0\n",
      "2016-12-02 12:11:21,457 : INFO : PROGRESS: at 58.69% examples, 215583 words/s, in_qsize 5, out_qsize 0\n",
      "2016-12-02 12:11:22,462 : INFO : PROGRESS: at 59.20% examples, 215629 words/s, in_qsize 5, out_qsize 0\n",
      "2016-12-02 12:11:23,525 : INFO : PROGRESS: at 59.75% examples, 215690 words/s, in_qsize 5, out_qsize 0\n",
      "2016-12-02 12:11:24,535 : INFO : PROGRESS: at 60.29% examples, 215794 words/s, in_qsize 5, out_qsize 0\n",
      "2016-12-02 12:11:25,573 : INFO : PROGRESS: at 60.81% examples, 215835 words/s, in_qsize 5, out_qsize 0\n",
      "2016-12-02 12:11:26,587 : INFO : PROGRESS: at 61.34% examples, 215918 words/s, in_qsize 6, out_qsize 0\n",
      "2016-12-02 12:11:27,631 : INFO : PROGRESS: at 61.87% examples, 215952 words/s, in_qsize 4, out_qsize 1\n",
      "2016-12-02 12:11:28,700 : INFO : PROGRESS: at 62.38% examples, 215882 words/s, in_qsize 5, out_qsize 0\n",
      "2016-12-02 12:11:29,748 : INFO : PROGRESS: at 62.85% examples, 215730 words/s, in_qsize 6, out_qsize 0\n",
      "2016-12-02 12:11:30,803 : INFO : PROGRESS: at 63.34% examples, 215629 words/s, in_qsize 5, out_qsize 0\n",
      "2016-12-02 12:11:31,813 : INFO : PROGRESS: at 63.84% examples, 215600 words/s, in_qsize 5, out_qsize 0\n",
      "2016-12-02 12:11:32,814 : INFO : PROGRESS: at 64.33% examples, 215588 words/s, in_qsize 5, out_qsize 0\n",
      "2016-12-02 12:11:33,877 : INFO : PROGRESS: at 64.86% examples, 215591 words/s, in_qsize 5, out_qsize 0\n",
      "2016-12-02 12:11:34,883 : INFO : PROGRESS: at 65.37% examples, 215630 words/s, in_qsize 5, out_qsize 0\n",
      "2016-12-02 12:11:35,910 : INFO : PROGRESS: at 65.86% examples, 215578 words/s, in_qsize 6, out_qsize 0\n",
      "2016-12-02 12:11:36,955 : INFO : PROGRESS: at 66.37% examples, 215554 words/s, in_qsize 5, out_qsize 0\n",
      "2016-12-02 12:11:37,968 : INFO : PROGRESS: at 66.89% examples, 215636 words/s, in_qsize 5, out_qsize 0\n",
      "2016-12-02 12:11:39,026 : INFO : PROGRESS: at 67.44% examples, 215695 words/s, in_qsize 5, out_qsize 0\n",
      "2016-12-02 12:11:40,034 : INFO : PROGRESS: at 67.96% examples, 215781 words/s, in_qsize 5, out_qsize 0\n",
      "2016-12-02 12:11:41,102 : INFO : PROGRESS: at 68.51% examples, 215824 words/s, in_qsize 5, out_qsize 0\n",
      "2016-12-02 12:11:42,167 : INFO : PROGRESS: at 69.05% examples, 215873 words/s, in_qsize 5, out_qsize 0\n",
      "2016-12-02 12:11:43,179 : INFO : PROGRESS: at 69.58% examples, 215947 words/s, in_qsize 5, out_qsize 0\n",
      "2016-12-02 12:11:44,197 : INFO : PROGRESS: at 70.10% examples, 216013 words/s, in_qsize 5, out_qsize 0\n",
      "2016-12-02 12:11:45,208 : INFO : PROGRESS: at 70.61% examples, 216038 words/s, in_qsize 5, out_qsize 0\n",
      "2016-12-02 12:11:46,218 : INFO : PROGRESS: at 71.14% examples, 216116 words/s, in_qsize 5, out_qsize 0\n",
      "2016-12-02 12:11:47,252 : INFO : PROGRESS: at 71.66% examples, 216153 words/s, in_qsize 5, out_qsize 0\n",
      "2016-12-02 12:11:48,259 : INFO : PROGRESS: at 72.19% examples, 216234 words/s, in_qsize 5, out_qsize 0\n",
      "2016-12-02 12:11:49,280 : INFO : PROGRESS: at 72.72% examples, 216298 words/s, in_qsize 5, out_qsize 0\n",
      "2016-12-02 12:11:50,292 : INFO : PROGRESS: at 73.23% examples, 216318 words/s, in_qsize 5, out_qsize 0\n",
      "2016-12-02 12:11:51,293 : INFO : PROGRESS: at 73.75% examples, 216404 words/s, in_qsize 5, out_qsize 0\n",
      "2016-12-02 12:11:52,337 : INFO : PROGRESS: at 74.28% examples, 216429 words/s, in_qsize 5, out_qsize 0\n",
      "2016-12-02 12:11:53,374 : INFO : PROGRESS: at 74.80% examples, 216458 words/s, in_qsize 4, out_qsize 1\n",
      "2016-12-02 12:11:54,428 : INFO : PROGRESS: at 75.35% examples, 216516 words/s, in_qsize 5, out_qsize 0\n",
      "2016-12-02 12:11:55,432 : INFO : PROGRESS: at 75.87% examples, 216596 words/s, in_qsize 5, out_qsize 0\n",
      "2016-12-02 12:11:56,508 : INFO : PROGRESS: at 76.42% examples, 216621 words/s, in_qsize 5, out_qsize 0\n",
      "2016-12-02 12:11:57,543 : INFO : PROGRESS: at 76.94% examples, 216656 words/s, in_qsize 5, out_qsize 0\n",
      "2016-12-02 12:11:58,590 : INFO : PROGRESS: at 77.49% examples, 216721 words/s, in_qsize 5, out_qsize 0\n",
      "2016-12-02 12:11:59,608 : INFO : PROGRESS: at 78.01% examples, 216777 words/s, in_qsize 5, out_qsize 0\n",
      "2016-12-02 12:12:00,647 : INFO : PROGRESS: at 78.54% examples, 216801 words/s, in_qsize 5, out_qsize 0\n",
      "2016-12-02 12:12:01,681 : INFO : PROGRESS: at 79.07% examples, 216833 words/s, in_qsize 5, out_qsize 0\n",
      "2016-12-02 12:12:02,688 : INFO : PROGRESS: at 79.59% examples, 216902 words/s, in_qsize 5, out_qsize 0\n",
      "2016-12-02 12:12:03,695 : INFO : PROGRESS: at 80.12% examples, 216928 words/s, in_qsize 5, out_qsize 0\n",
      "2016-12-02 12:12:04,702 : INFO : PROGRESS: at 80.63% examples, 216950 words/s, in_qsize 5, out_qsize 0\n",
      "2016-12-02 12:12:05,723 : INFO : PROGRESS: at 81.15% examples, 216997 words/s, in_qsize 5, out_qsize 0\n",
      "2016-12-02 12:12:06,732 : INFO : PROGRESS: at 81.66% examples, 217018 words/s, in_qsize 6, out_qsize 1\n",
      "2016-12-02 12:12:07,756 : INFO : PROGRESS: at 82.19% examples, 217061 words/s, in_qsize 5, out_qsize 0\n",
      "2016-12-02 12:12:08,809 : INFO : PROGRESS: at 82.73% examples, 217108 words/s, in_qsize 5, out_qsize 0\n",
      "2016-12-02 12:12:09,842 : INFO : PROGRESS: at 83.24% examples, 217095 words/s, in_qsize 6, out_qsize 0\n",
      "2016-12-02 12:12:10,877 : INFO : PROGRESS: at 83.74% examples, 217035 words/s, in_qsize 4, out_qsize 1\n",
      "2016-12-02 12:12:11,900 : INFO : PROGRESS: at 84.26% examples, 217077 words/s, in_qsize 6, out_qsize 0\n",
      "2016-12-02 12:12:12,951 : INFO : PROGRESS: at 84.79% examples, 217086 words/s, in_qsize 5, out_qsize 0\n",
      "2016-12-02 12:12:13,979 : INFO : PROGRESS: at 85.31% examples, 217122 words/s, in_qsize 5, out_qsize 0\n",
      "2016-12-02 12:12:14,989 : INFO : PROGRESS: at 85.84% examples, 217182 words/s, in_qsize 5, out_qsize 0\n",
      "2016-12-02 12:12:16,040 : INFO : PROGRESS: at 86.37% examples, 217187 words/s, in_qsize 5, out_qsize 0\n",
      "2016-12-02 12:12:17,043 : INFO : PROGRESS: at 86.89% examples, 217253 words/s, in_qsize 5, out_qsize 0\n",
      "2016-12-02 12:12:18,066 : INFO : PROGRESS: at 87.40% examples, 217249 words/s, in_qsize 6, out_qsize 1\n",
      "2016-12-02 12:12:19,076 : INFO : PROGRESS: at 87.91% examples, 217265 words/s, in_qsize 5, out_qsize 0\n",
      "2016-12-02 12:12:20,135 : INFO : PROGRESS: at 88.46% examples, 217304 words/s, in_qsize 6, out_qsize 1\n",
      "2016-12-02 12:12:21,178 : INFO : PROGRESS: at 88.98% examples, 217319 words/s, in_qsize 5, out_qsize 0\n",
      "2016-12-02 12:12:22,187 : INFO : PROGRESS: at 89.51% examples, 217374 words/s, in_qsize 5, out_qsize 0\n",
      "2016-12-02 12:12:23,204 : INFO : PROGRESS: at 90.02% examples, 217378 words/s, in_qsize 5, out_qsize 0\n",
      "2016-12-02 12:12:24,266 : INFO : PROGRESS: at 90.56% examples, 217408 words/s, in_qsize 5, out_qsize 0\n",
      "2016-12-02 12:12:25,292 : INFO : PROGRESS: at 91.07% examples, 217401 words/s, in_qsize 5, out_qsize 1\n",
      "2016-12-02 12:12:26,340 : INFO : PROGRESS: at 91.60% examples, 217407 words/s, in_qsize 5, out_qsize 0\n",
      "2016-12-02 12:12:27,386 : INFO : PROGRESS: at 92.09% examples, 217338 words/s, in_qsize 6, out_qsize 0\n",
      "2016-12-02 12:12:28,444 : INFO : PROGRESS: at 92.60% examples, 217296 words/s, in_qsize 5, out_qsize 0\n",
      "2016-12-02 12:12:29,462 : INFO : PROGRESS: at 93.11% examples, 217300 words/s, in_qsize 5, out_qsize 0\n",
      "2016-12-02 12:12:30,523 : INFO : PROGRESS: at 93.63% examples, 217293 words/s, in_qsize 5, out_qsize 0\n",
      "2016-12-02 12:12:31,533 : INFO : PROGRESS: at 94.16% examples, 217346 words/s, in_qsize 5, out_qsize 0\n",
      "2016-12-02 12:12:32,574 : INFO : PROGRESS: at 94.67% examples, 217322 words/s, in_qsize 5, out_qsize 0\n",
      "2016-12-02 12:12:33,624 : INFO : PROGRESS: at 95.20% examples, 217330 words/s, in_qsize 6, out_qsize 0\n",
      "2016-12-02 12:12:34,649 : INFO : PROGRESS: at 95.70% examples, 217325 words/s, in_qsize 5, out_qsize 0\n",
      "2016-12-02 12:12:35,712 : INFO : PROGRESS: at 96.21% examples, 217275 words/s, in_qsize 6, out_qsize 0\n",
      "2016-12-02 12:12:36,748 : INFO : PROGRESS: at 96.72% examples, 217258 words/s, in_qsize 5, out_qsize 0\n",
      "2016-12-02 12:12:37,754 : INFO : PROGRESS: at 97.08% examples, 216935 words/s, in_qsize 5, out_qsize 0\n",
      "2016-12-02 12:12:38,771 : INFO : PROGRESS: at 97.49% examples, 216718 words/s, in_qsize 5, out_qsize 0\n",
      "2016-12-02 12:12:39,791 : INFO : PROGRESS: at 97.93% examples, 216572 words/s, in_qsize 5, out_qsize 0\n",
      "2016-12-02 12:12:40,800 : INFO : PROGRESS: at 98.35% examples, 216402 words/s, in_qsize 5, out_qsize 0\n",
      "2016-12-02 12:12:41,857 : INFO : PROGRESS: at 98.79% examples, 216220 words/s, in_qsize 5, out_qsize 0\n",
      "2016-12-02 12:12:42,878 : INFO : PROGRESS: at 99.20% examples, 216004 words/s, in_qsize 5, out_qsize 0\n",
      "2016-12-02 12:12:43,910 : INFO : PROGRESS: at 99.61% examples, 215779 words/s, in_qsize 6, out_qsize 0\n",
      "2016-12-02 12:12:44,644 : INFO : worker thread finished; awaiting finish of 2 more threads\n",
      "2016-12-02 12:12:44,650 : INFO : worker thread finished; awaiting finish of 1 more threads\n",
      "2016-12-02 12:12:44,682 : INFO : worker thread finished; awaiting finish of 0 more threads\n",
      "2016-12-02 12:12:44,683 : INFO : training on 58858695 raw words (43543444 effective words) took 201.8s, 215763 effective words/s\n"
     ]
    }
   ],
   "source": [
    "from gensim.models import word2vec\n",
    " \n",
    "import logging\n",
    " \n",
    "logging.basicConfig(format='%(asctime)s : %(levelname)s : %(message)s', level=logging.INFO)\n",
    " \n",
    "sentences = word2vec.Text8Corpus('unlabeledTrainData.tsv')\n",
    " \n",
    "model = word2vec.Word2Vec(sentences, size=200)"
   ]
  },
  {
   "cell_type": "code",
   "execution_count": 5,
   "metadata": {
    "collapsed": false
   },
   "outputs": [
    {
     "name": "stderr",
     "output_type": "stream",
     "text": [
      "2016-12-02 12:14:37,822 : INFO : saving Word2Vec object under training.model, separately None\n",
      "2016-12-02 12:14:37,825 : INFO : not storing attribute cum_table\n",
      "2016-12-02 12:14:37,828 : INFO : storing numpy array 'syn1neg' to training.model.syn1neg.npy\n",
      "2016-12-02 12:14:37,874 : INFO : storing numpy array 'syn0' to training.model.syn0.npy\n",
      "2016-12-02 12:14:37,913 : INFO : not storing attribute syn0norm\n"
     ]
    }
   ],
   "source": [
    "model.save('training.model')"
   ]
  },
  {
   "cell_type": "code",
   "execution_count": 6,
   "metadata": {
    "collapsed": false
   },
   "outputs": [
    {
     "name": "stderr",
     "output_type": "stream",
     "text": [
      "2016-12-02 12:14:41,808 : INFO : precomputing L2-norms of word weight vectors\n"
     ]
    },
    {
     "data": {
      "text/plain": [
       "[('boy', 0.8750425577163696),\n",
       " ('girl,', 0.8500086069107056),\n",
       " ('woman', 0.8243051767349243),\n",
       " ('lady', 0.7891778945922852),\n",
       " ('boy,', 0.7801206111907959),\n",
       " ('woman,', 0.7223082780838013),\n",
       " ('kid', 0.7194668650627136),\n",
       " ('doctor', 0.6959558725357056),\n",
       " ('baby', 0.6880972385406494),\n",
       " ('prostitute', 0.6823328733444214)]"
      ]
     },
     "execution_count": 6,
     "metadata": {},
     "output_type": "execute_result"
    }
   ],
   "source": [
    " model.most_similar(['girl'])"
   ]
  },
  {
   "cell_type": "code",
   "execution_count": 7,
   "metadata": {
    "collapsed": false
   },
   "outputs": [
    {
     "data": {
      "text/plain": [
       "[('wonderful', 0.8039820790290833),\n",
       " ('fine', 0.7652685642242432),\n",
       " ('fantastic', 0.7461903691291809),\n",
       " ('terrific', 0.7245884537696838),\n",
       " ('brilliant', 0.7148690223693848),\n",
       " ('good', 0.7047405242919922),\n",
       " ('excellent', 0.6619011163711548),\n",
       " ('nice', 0.6450693607330322),\n",
       " ('amazing', 0.6381159424781799),\n",
       " ('superb', 0.6302169561386108)]"
      ]
     },
     "execution_count": 7,
     "metadata": {},
     "output_type": "execute_result"
    }
   ],
   "source": [
    " model.most_similar(['great'])"
   ]
  },
  {
   "cell_type": "code",
   "execution_count": 13,
   "metadata": {
    "collapsed": false
   },
   "outputs": [
    {
     "data": {
      "text/plain": [
       "[('rubber', 0.7695035338401794),\n",
       " ('spider', 0.7427165508270264),\n",
       " ('mutant', 0.7266565561294556),\n",
       " ('monster', 0.7221643924713135),\n",
       " ('helicopter', 0.699181318283081),\n",
       " ('alien', 0.6913484334945679),\n",
       " ('turtle', 0.6904640197753906),\n",
       " ('snake', 0.6815657615661621),\n",
       " ('chainsaw', 0.675409197807312),\n",
       " ('gorilla', 0.6730327606201172)]"
      ]
     },
     "execution_count": 13,
     "metadata": {},
     "output_type": "execute_result"
    }
   ],
   "source": [
    "model.most_similar(['giant'])"
   ]
  },
  {
   "cell_type": "code",
   "execution_count": 8,
   "metadata": {
    "collapsed": false
   },
   "outputs": [
    {
     "data": {
      "text/plain": [
       "[('authors,', 0.7391108274459839),\n",
       " ('maturity,', 0.7350873947143555),\n",
       " ('dictator,', 0.7327238321304321),\n",
       " ('express,', 0.7230842113494873),\n",
       " ('pathologically', 0.722417414188385),\n",
       " ('ideals.', 0.7208937406539917),\n",
       " ('fears,', 0.7202994227409363),\n",
       " ('boundless', 0.7202352285385132),\n",
       " ('growth.', 0.7192524671554565),\n",
       " ('Czerny', 0.718984067440033)]"
      ]
     },
     "execution_count": 8,
     "metadata": {},
     "output_type": "execute_result"
    }
   ],
   "source": [
    "model.most_similar([\"vocabulary\"])"
   ]
  },
  {
   "cell_type": "code",
   "execution_count": null,
   "metadata": {
    "collapsed": true
   },
   "outputs": [],
   "source": []
  }
 ],
 "metadata": {
  "anaconda-cloud": {},
  "kernelspec": {
   "display_name": "Python [default]",
   "language": "python",
   "name": "python3"
  },
  "language_info": {
   "codemirror_mode": {
    "name": "ipython",
    "version": 3
   },
   "file_extension": ".py",
   "mimetype": "text/x-python",
   "name": "python",
   "nbconvert_exporter": "python",
   "pygments_lexer": "ipython3",
   "version": "3.5.2"
  }
 },
 "nbformat": 4,
 "nbformat_minor": 1
}
